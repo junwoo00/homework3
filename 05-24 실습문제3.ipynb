{
 "cells": [
  {
   "cell_type": "code",
   "execution_count": null,
   "id": "5d98538e-88d9-4cb5-961a-962695b224b7",
   "metadata": {},
   "outputs": [],
   "source": [
    "a , b = map(int,input(\"숫자 두개를 입력해주세요:\").split())\n",
    "try:\n",
    "  c = a / b\n",
    "except 0Error:\n",
    "  print(\"입력한 숫자를 확인해주세요\")\n",
    "    \n",
    "else :\n",
    "  print(f'{a} / {b} = {c}')\n",
    "finally:\n",
    "  print(\"calculation completed\")"
   ]
  }
 ],
 "metadata": {
  "kernelspec": {
   "display_name": "Python 3 (ipykernel)",
   "language": "python",
   "name": "python3"
  },
  "language_info": {
   "codemirror_mode": {
    "name": "ipython",
    "version": 3
   },
   "file_extension": ".py",
   "mimetype": "text/x-python",
   "name": "python",
   "nbconvert_exporter": "python",
   "pygments_lexer": "ipython3",
   "version": "3.11.7"
  }
 },
 "nbformat": 4,
 "nbformat_minor": 5
}
