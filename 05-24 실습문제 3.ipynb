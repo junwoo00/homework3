{
 "cells": [
  {
   "cell_type": "code",
   "execution_count": null,
   "id": "cec8bb3c-a68f-49ef-8498-8c557f34e69f",
   "metadata": {},
   "outputs": [],
   "source": [
    "try:\n",
    "  a, b = map(int, input(\"숫자 두 개를 입력해주세요: \").split())\n",
    "  c = a/ b\n",
    "\n",
    "except ValueError :\n",
    "  print(\"숫자를 입력해주세요\")\n",
    "\n",
    "except ZeroDivisionError :  \n",
    "  print(\"입력한 숫자를 확인해주세요\")\n",
    "\n",
    "else :\n",
    "  print(f'{a} / {b} = {c}')\n",
    "\n",
    "finally:\n",
    "  print(\"calculation completed\")"
   ]
  }
 ],
 "metadata": {
  "kernelspec": {
   "display_name": "Python 3 (ipykernel)",
   "language": "python",
   "name": "python3"
  },
  "language_info": {
   "codemirror_mode": {
    "name": "ipython",
    "version": 3
   },
   "file_extension": ".py",
   "mimetype": "text/x-python",
   "name": "python",
   "nbconvert_exporter": "python",
   "pygments_lexer": "ipython3",
   "version": "3.11.7"
  }
 },
 "nbformat": 4,
 "nbformat_minor": 5
}
